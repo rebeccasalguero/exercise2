{
 "cells": [
  {
   "cell_type": "code",
   "execution_count": 365,
   "metadata": {},
   "outputs": [],
   "source": [
    "import pandas as pd\n",
    "#import seaborn as sns\n",
    "import matplotlib.pyplot as plt\n",
    "import numpy as np\n",
    "\n",
    "import datetime as dt\n",
    "from datetime import date\n",
    "from dateutil.relativedelta import relativedelta\n",
    "%matplotlib inline"
   ]
  },
  {
   "cell_type": "markdown",
   "metadata": {},
   "source": [
    "1. Read the text file and specify how it will read the file by adding the sep= parameter\n",
    "    since the txt file is separated by tabs, the syntax for it is '\\t'\n",
    "2. We can now convert out data into a DataFrame/table by invoking pd.DataFrame\n",
    "3. we can now convert data to an excel file \n",
    "    by using the to_excel function we can specify where in out computer we want the file saved and the \n",
    "    name for the file\n"
   ]
  },
  {
   "cell_type": "code",
   "execution_count": 366,
   "metadata": {},
   "outputs": [
    {
     "ename": "FileCreateError",
     "evalue": "[Errno 13] Permission denied: 'C:\\\\Users\\\\rebecca.salguero\\\\Downloads\\\\practice23.xlsx'",
     "output_type": "error",
     "traceback": [
      "\u001b[1;31m---------------------------------------------------------------------------\u001b[0m",
      "\u001b[1;31mPermissionError\u001b[0m                           Traceback (most recent call last)",
      "\u001b[1;32m~\\Anaconda3\\lib\\site-packages\\xlsxwriter\\workbook.py\u001b[0m in \u001b[0;36mclose\u001b[1;34m(self)\u001b[0m\n\u001b[0;32m    315\u001b[0m             \u001b[1;32mtry\u001b[0m\u001b[1;33m:\u001b[0m\u001b[1;33m\u001b[0m\u001b[1;33m\u001b[0m\u001b[0m\n\u001b[1;32m--> 316\u001b[1;33m                 \u001b[0mself\u001b[0m\u001b[1;33m.\u001b[0m\u001b[0m_store_workbook\u001b[0m\u001b[1;33m(\u001b[0m\u001b[1;33m)\u001b[0m\u001b[1;33m\u001b[0m\u001b[1;33m\u001b[0m\u001b[0m\n\u001b[0m\u001b[0;32m    317\u001b[0m             \u001b[1;32mexcept\u001b[0m \u001b[0mIOError\u001b[0m \u001b[1;32mas\u001b[0m \u001b[0me\u001b[0m\u001b[1;33m:\u001b[0m\u001b[1;33m\u001b[0m\u001b[1;33m\u001b[0m\u001b[0m\n",
      "\u001b[1;32m~\\Anaconda3\\lib\\site-packages\\xlsxwriter\\workbook.py\u001b[0m in \u001b[0;36m_store_workbook\u001b[1;34m(self)\u001b[0m\n\u001b[0;32m    631\u001b[0m         \u001b[1;32mexcept\u001b[0m \u001b[0mIOError\u001b[0m \u001b[1;32mas\u001b[0m \u001b[0me\u001b[0m\u001b[1;33m:\u001b[0m\u001b[1;33m\u001b[0m\u001b[1;33m\u001b[0m\u001b[0m\n\u001b[1;32m--> 632\u001b[1;33m             \u001b[1;32mraise\u001b[0m \u001b[0me\u001b[0m\u001b[1;33m\u001b[0m\u001b[1;33m\u001b[0m\u001b[0m\n\u001b[0m\u001b[0;32m    633\u001b[0m \u001b[1;33m\u001b[0m\u001b[0m\n",
      "\u001b[1;32m~\\Anaconda3\\lib\\site-packages\\xlsxwriter\\workbook.py\u001b[0m in \u001b[0;36m_store_workbook\u001b[1;34m(self)\u001b[0m\n\u001b[0;32m    628\u001b[0m         \u001b[1;32mtry\u001b[0m\u001b[1;33m:\u001b[0m\u001b[1;33m\u001b[0m\u001b[1;33m\u001b[0m\u001b[0m\n\u001b[1;32m--> 629\u001b[1;33m             xlsx_file = ZipFile(self.filename, \"w\", compression=ZIP_DEFLATED,\n\u001b[0m\u001b[0;32m    630\u001b[0m                                 allowZip64=self.allow_zip64)\n",
      "\u001b[1;32m~\\Anaconda3\\lib\\zipfile.py\u001b[0m in \u001b[0;36m__init__\u001b[1;34m(self, file, mode, compression, allowZip64, compresslevel, strict_timestamps)\u001b[0m\n\u001b[0;32m   1249\u001b[0m                 \u001b[1;32mtry\u001b[0m\u001b[1;33m:\u001b[0m\u001b[1;33m\u001b[0m\u001b[1;33m\u001b[0m\u001b[0m\n\u001b[1;32m-> 1250\u001b[1;33m                     \u001b[0mself\u001b[0m\u001b[1;33m.\u001b[0m\u001b[0mfp\u001b[0m \u001b[1;33m=\u001b[0m \u001b[0mio\u001b[0m\u001b[1;33m.\u001b[0m\u001b[0mopen\u001b[0m\u001b[1;33m(\u001b[0m\u001b[0mfile\u001b[0m\u001b[1;33m,\u001b[0m \u001b[0mfilemode\u001b[0m\u001b[1;33m)\u001b[0m\u001b[1;33m\u001b[0m\u001b[1;33m\u001b[0m\u001b[0m\n\u001b[0m\u001b[0;32m   1251\u001b[0m                 \u001b[1;32mexcept\u001b[0m \u001b[0mOSError\u001b[0m\u001b[1;33m:\u001b[0m\u001b[1;33m\u001b[0m\u001b[1;33m\u001b[0m\u001b[0m\n",
      "\u001b[1;31mPermissionError\u001b[0m: [Errno 13] Permission denied: 'C:\\\\Users\\\\rebecca.salguero\\\\Downloads\\\\practice23.xlsx'",
      "\nDuring handling of the above exception, another exception occurred:\n",
      "\u001b[1;31mFileCreateError\u001b[0m                           Traceback (most recent call last)",
      "\u001b[1;32m<ipython-input-366-31358d06dcef>\u001b[0m in \u001b[0;36m<module>\u001b[1;34m\u001b[0m\n\u001b[0;32m      1\u001b[0m \u001b[0mpractice2\u001b[0m \u001b[1;33m=\u001b[0m \u001b[0mpd\u001b[0m\u001b[1;33m.\u001b[0m\u001b[0mread_csv\u001b[0m\u001b[1;33m(\u001b[0m\u001b[1;34mr'C:\\Users\\rebecca.salguero\\Downloads\\Exercise2.txt'\u001b[0m\u001b[1;33m,\u001b[0m \u001b[0msep\u001b[0m\u001b[1;33m=\u001b[0m\u001b[1;34m'\\t'\u001b[0m\u001b[1;33m)\u001b[0m\u001b[1;33m\u001b[0m\u001b[1;33m\u001b[0m\u001b[0m\n\u001b[0;32m      2\u001b[0m \u001b[0mdf\u001b[0m \u001b[1;33m=\u001b[0m \u001b[0mpd\u001b[0m\u001b[1;33m.\u001b[0m\u001b[0mDataFrame\u001b[0m\u001b[1;33m(\u001b[0m\u001b[0mpractice2\u001b[0m\u001b[1;33m)\u001b[0m\u001b[1;33m\u001b[0m\u001b[1;33m\u001b[0m\u001b[0m\n\u001b[1;32m----> 3\u001b[1;33m \u001b[0mxcel\u001b[0m \u001b[1;33m=\u001b[0m \u001b[0mdf\u001b[0m\u001b[1;33m.\u001b[0m\u001b[0mto_excel\u001b[0m\u001b[1;33m(\u001b[0m\u001b[1;34mr'C:\\Users\\rebecca.salguero\\Downloads\\practice23.xlsx'\u001b[0m\u001b[1;33m,\u001b[0m \u001b[0mindex\u001b[0m \u001b[1;33m=\u001b[0m \u001b[1;32mNone\u001b[0m\u001b[1;33m)\u001b[0m\u001b[1;33m\u001b[0m\u001b[1;33m\u001b[0m\u001b[0m\n\u001b[0m\u001b[0;32m      4\u001b[0m \u001b[1;33m\u001b[0m\u001b[0m\n",
      "\u001b[1;32m~\\Anaconda3\\lib\\site-packages\\pandas\\core\\generic.py\u001b[0m in \u001b[0;36mto_excel\u001b[1;34m(self, excel_writer, sheet_name, na_rep, float_format, columns, header, index, index_label, startrow, startcol, engine, merge_cells, encoding, inf_rep, verbose, freeze_panes)\u001b[0m\n\u001b[0;32m   2173\u001b[0m             \u001b[0minf_rep\u001b[0m\u001b[1;33m=\u001b[0m\u001b[0minf_rep\u001b[0m\u001b[1;33m,\u001b[0m\u001b[1;33m\u001b[0m\u001b[1;33m\u001b[0m\u001b[0m\n\u001b[0;32m   2174\u001b[0m         )\n\u001b[1;32m-> 2175\u001b[1;33m         formatter.write(\n\u001b[0m\u001b[0;32m   2176\u001b[0m             \u001b[0mexcel_writer\u001b[0m\u001b[1;33m,\u001b[0m\u001b[1;33m\u001b[0m\u001b[1;33m\u001b[0m\u001b[0m\n\u001b[0;32m   2177\u001b[0m             \u001b[0msheet_name\u001b[0m\u001b[1;33m=\u001b[0m\u001b[0msheet_name\u001b[0m\u001b[1;33m,\u001b[0m\u001b[1;33m\u001b[0m\u001b[1;33m\u001b[0m\u001b[0m\n",
      "\u001b[1;32m~\\Anaconda3\\lib\\site-packages\\pandas\\io\\formats\\excel.py\u001b[0m in \u001b[0;36mwrite\u001b[1;34m(self, writer, sheet_name, startrow, startcol, freeze_panes, engine)\u001b[0m\n\u001b[0;32m    736\u001b[0m         )\n\u001b[0;32m    737\u001b[0m         \u001b[1;32mif\u001b[0m \u001b[0mneed_save\u001b[0m\u001b[1;33m:\u001b[0m\u001b[1;33m\u001b[0m\u001b[1;33m\u001b[0m\u001b[0m\n\u001b[1;32m--> 738\u001b[1;33m             \u001b[0mwriter\u001b[0m\u001b[1;33m.\u001b[0m\u001b[0msave\u001b[0m\u001b[1;33m(\u001b[0m\u001b[1;33m)\u001b[0m\u001b[1;33m\u001b[0m\u001b[1;33m\u001b[0m\u001b[0m\n\u001b[0m",
      "\u001b[1;32m~\\Anaconda3\\lib\\site-packages\\pandas\\io\\excel\\_xlsxwriter.py\u001b[0m in \u001b[0;36msave\u001b[1;34m(self)\u001b[0m\n\u001b[0;32m    193\u001b[0m         \"\"\"\n\u001b[0;32m    194\u001b[0m \u001b[1;33m\u001b[0m\u001b[0m\n\u001b[1;32m--> 195\u001b[1;33m         \u001b[1;32mreturn\u001b[0m \u001b[0mself\u001b[0m\u001b[1;33m.\u001b[0m\u001b[0mbook\u001b[0m\u001b[1;33m.\u001b[0m\u001b[0mclose\u001b[0m\u001b[1;33m(\u001b[0m\u001b[1;33m)\u001b[0m\u001b[1;33m\u001b[0m\u001b[1;33m\u001b[0m\u001b[0m\n\u001b[0m\u001b[0;32m    196\u001b[0m \u001b[1;33m\u001b[0m\u001b[0m\n\u001b[0;32m    197\u001b[0m     def write_cells(\n",
      "\u001b[1;32m~\\Anaconda3\\lib\\site-packages\\xlsxwriter\\workbook.py\u001b[0m in \u001b[0;36mclose\u001b[1;34m(self)\u001b[0m\n\u001b[0;32m    316\u001b[0m                 \u001b[0mself\u001b[0m\u001b[1;33m.\u001b[0m\u001b[0m_store_workbook\u001b[0m\u001b[1;33m(\u001b[0m\u001b[1;33m)\u001b[0m\u001b[1;33m\u001b[0m\u001b[1;33m\u001b[0m\u001b[0m\n\u001b[0;32m    317\u001b[0m             \u001b[1;32mexcept\u001b[0m \u001b[0mIOError\u001b[0m \u001b[1;32mas\u001b[0m \u001b[0me\u001b[0m\u001b[1;33m:\u001b[0m\u001b[1;33m\u001b[0m\u001b[1;33m\u001b[0m\u001b[0m\n\u001b[1;32m--> 318\u001b[1;33m                 \u001b[1;32mraise\u001b[0m \u001b[0mFileCreateError\u001b[0m\u001b[1;33m(\u001b[0m\u001b[0me\u001b[0m\u001b[1;33m)\u001b[0m\u001b[1;33m\u001b[0m\u001b[1;33m\u001b[0m\u001b[0m\n\u001b[0m\u001b[0;32m    319\u001b[0m             \u001b[1;32mexcept\u001b[0m \u001b[0mLargeZipFile\u001b[0m \u001b[1;32mas\u001b[0m \u001b[0me\u001b[0m\u001b[1;33m:\u001b[0m\u001b[1;33m\u001b[0m\u001b[1;33m\u001b[0m\u001b[0m\n\u001b[0;32m    320\u001b[0m                 raise FileSizeError(\"Filesize would require ZIP64 extensions. \"\n",
      "\u001b[1;31mFileCreateError\u001b[0m: [Errno 13] Permission denied: 'C:\\\\Users\\\\rebecca.salguero\\\\Downloads\\\\practice23.xlsx'"
     ]
    }
   ],
   "source": [
    "practice2 = pd.read_csv(r'C:\\Users\\rebecca.salguero\\Downloads\\Exercise2.txt', sep='\\t')\n",
    "df = pd.DataFrame(practice2)\n",
    "xcel = df.to_excel(r'C:\\Users\\rebecca.salguero\\Downloads\\practice23.xlsx', index = None)\n",
    "\n"
   ]
  },
  {
   "cell_type": "code",
   "execution_count": 367,
   "metadata": {},
   "outputs": [
    {
     "data": {
      "text/html": [
       "<div>\n",
       "<style scoped>\n",
       "    .dataframe tbody tr th:only-of-type {\n",
       "        vertical-align: middle;\n",
       "    }\n",
       "\n",
       "    .dataframe tbody tr th {\n",
       "        vertical-align: top;\n",
       "    }\n",
       "\n",
       "    .dataframe thead th {\n",
       "        text-align: right;\n",
       "    }\n",
       "</style>\n",
       "<table border=\"1\" class=\"dataframe\">\n",
       "  <thead>\n",
       "    <tr style=\"text-align: right;\">\n",
       "      <th></th>\n",
       "      <th>extrprob</th>\n",
       "      <th>gender</th>\n",
       "      <th>chwgtlb</th>\n",
       "      <th>chwgtoz</th>\n",
       "      <th>chlddob</th>\n",
       "      <th>youthid</th>\n",
       "      <th>parnted</th>\n",
       "      <th>yuthethn</th>\n",
       "      <th>behreg</th>\n",
       "    </tr>\n",
       "  </thead>\n",
       "  <tbody>\n",
       "    <tr>\n",
       "      <th>0</th>\n",
       "      <td>51.0</td>\n",
       "      <td>Child gender girl</td>\n",
       "      <td>8.0</td>\n",
       "      <td>1.0</td>\n",
       "      <td>18 May 07</td>\n",
       "      <td>1001</td>\n",
       "      <td>Some college</td>\n",
       "      <td>Yes</td>\n",
       "      <td>2.0</td>\n",
       "    </tr>\n",
       "    <tr>\n",
       "      <th>1</th>\n",
       "      <td>44.0</td>\n",
       "      <td>Child gender girl</td>\n",
       "      <td>5.0</td>\n",
       "      <td>11.0</td>\n",
       "      <td>22 Jun 07</td>\n",
       "      <td>1002</td>\n",
       "      <td>Less than 8yrs</td>\n",
       "      <td>Yes</td>\n",
       "      <td>3.0</td>\n",
       "    </tr>\n",
       "    <tr>\n",
       "      <th>2</th>\n",
       "      <td>46.0</td>\n",
       "      <td>Child gender girl</td>\n",
       "      <td>7.0</td>\n",
       "      <td>0.0</td>\n",
       "      <td>01 Jul 07</td>\n",
       "      <td>1003</td>\n",
       "      <td>HS/GED</td>\n",
       "      <td>Yes</td>\n",
       "      <td>5.0</td>\n",
       "    </tr>\n",
       "    <tr>\n",
       "      <th>3</th>\n",
       "      <td>51.0</td>\n",
       "      <td>Child gender boy</td>\n",
       "      <td>8.0</td>\n",
       "      <td>0.0</td>\n",
       "      <td>28 Jun 07</td>\n",
       "      <td>1004</td>\n",
       "      <td>Some college</td>\n",
       "      <td>Yes</td>\n",
       "      <td>2.0</td>\n",
       "    </tr>\n",
       "    <tr>\n",
       "      <th>4</th>\n",
       "      <td>47.0</td>\n",
       "      <td>Child gender girl</td>\n",
       "      <td>6.0</td>\n",
       "      <td>8.0</td>\n",
       "      <td>11 Jun 07</td>\n",
       "      <td>1005</td>\n",
       "      <td>HS/GED</td>\n",
       "      <td>Yes</td>\n",
       "      <td>4.0</td>\n",
       "    </tr>\n",
       "    <tr>\n",
       "      <th>...</th>\n",
       "      <td>...</td>\n",
       "      <td>...</td>\n",
       "      <td>...</td>\n",
       "      <td>...</td>\n",
       "      <td>...</td>\n",
       "      <td>...</td>\n",
       "      <td>...</td>\n",
       "      <td>...</td>\n",
       "      <td>...</td>\n",
       "    </tr>\n",
       "    <tr>\n",
       "      <th>402</th>\n",
       "      <td>47.0</td>\n",
       "      <td>Child gender boy</td>\n",
       "      <td>6.0</td>\n",
       "      <td>7.0</td>\n",
       "      <td>30 Jul 08</td>\n",
       "      <td>2201</td>\n",
       "      <td>Some college</td>\n",
       "      <td>No</td>\n",
       "      <td>3.0</td>\n",
       "    </tr>\n",
       "    <tr>\n",
       "      <th>403</th>\n",
       "      <td>35.0</td>\n",
       "      <td>Child gender boy</td>\n",
       "      <td>8.0</td>\n",
       "      <td>8.0</td>\n",
       "      <td>27 Jul 08</td>\n",
       "      <td>2202</td>\n",
       "      <td>9-12yr, no diploma</td>\n",
       "      <td>No</td>\n",
       "      <td>0.0</td>\n",
       "    </tr>\n",
       "    <tr>\n",
       "      <th>404</th>\n",
       "      <td>37.0</td>\n",
       "      <td>Child gender girl</td>\n",
       "      <td>7.0</td>\n",
       "      <td>9.0</td>\n",
       "      <td>23 Jul 08</td>\n",
       "      <td>2203</td>\n",
       "      <td>HS/GED</td>\n",
       "      <td>No</td>\n",
       "      <td>0.0</td>\n",
       "    </tr>\n",
       "    <tr>\n",
       "      <th>405</th>\n",
       "      <td>62.0</td>\n",
       "      <td>Child gender girl</td>\n",
       "      <td>6.0</td>\n",
       "      <td>11.0</td>\n",
       "      <td>28 Jul 08</td>\n",
       "      <td>2204</td>\n",
       "      <td>HS/GED</td>\n",
       "      <td>No</td>\n",
       "      <td>4.0</td>\n",
       "    </tr>\n",
       "    <tr>\n",
       "      <th>406</th>\n",
       "      <td>47.0</td>\n",
       "      <td>Child gender boy</td>\n",
       "      <td>7.0</td>\n",
       "      <td>6.0</td>\n",
       "      <td>22 Jul 08</td>\n",
       "      <td>2205</td>\n",
       "      <td>9-12yr, no diploma</td>\n",
       "      <td>No</td>\n",
       "      <td>4.0</td>\n",
       "    </tr>\n",
       "  </tbody>\n",
       "</table>\n",
       "<p>407 rows × 9 columns</p>\n",
       "</div>"
      ],
      "text/plain": [
       "     extrprob             gender  chwgtlb  chwgtoz    chlddob  youthid  \\\n",
       "0        51.0  Child gender girl      8.0      1.0  18 May 07     1001   \n",
       "1        44.0  Child gender girl      5.0     11.0  22 Jun 07     1002   \n",
       "2        46.0  Child gender girl      7.0      0.0  01 Jul 07     1003   \n",
       "3        51.0   Child gender boy      8.0      0.0  28 Jun 07     1004   \n",
       "4        47.0  Child gender girl      6.0      8.0  11 Jun 07     1005   \n",
       "..        ...                ...      ...      ...        ...      ...   \n",
       "402      47.0   Child gender boy      6.0      7.0  30 Jul 08     2201   \n",
       "403      35.0   Child gender boy      8.0      8.0  27 Jul 08     2202   \n",
       "404      37.0  Child gender girl      7.0      9.0  23 Jul 08     2203   \n",
       "405      62.0  Child gender girl      6.0     11.0  28 Jul 08     2204   \n",
       "406      47.0   Child gender boy      7.0      6.0  22 Jul 08     2205   \n",
       "\n",
       "                parnted yuthethn  behreg  \n",
       "0          Some college      Yes     2.0  \n",
       "1        Less than 8yrs      Yes     3.0  \n",
       "2                HS/GED      Yes     5.0  \n",
       "3          Some college      Yes     2.0  \n",
       "4                HS/GED      Yes     4.0  \n",
       "..                  ...      ...     ...  \n",
       "402        Some college       No     3.0  \n",
       "403  9-12yr, no diploma       No     0.0  \n",
       "404              HS/GED       No     0.0  \n",
       "405              HS/GED       No     4.0  \n",
       "406  9-12yr, no diploma       No     4.0  \n",
       "\n",
       "[407 rows x 9 columns]"
      ]
     },
     "execution_count": 367,
     "metadata": {},
     "output_type": "execute_result"
    }
   ],
   "source": [
    "df"
   ]
  },
  {
   "cell_type": "markdown",
   "metadata": {},
   "source": [
    "1. Save only the youthid column into a variable\n",
    "    in this case its saved in variable youthid\n",
    "2. Drop the youthid column from our dataset and save this new table in a variaale\n",
    "    in this case its saved in variable no_youthid and used drop() to remove the column\n",
    "3. We now combine the single youthid column with the dataset we dropped a column from\n",
    "    use the concat() function to combine the youthid column and the dataset so that our new table will \n",
    "    show the youthid column as the first column in our dataset\n",
    "    "
   ]
  },
  {
   "cell_type": "code",
   "execution_count": 368,
   "metadata": {},
   "outputs": [
    {
     "data": {
      "text/html": [
       "<div>\n",
       "<style scoped>\n",
       "    .dataframe tbody tr th:only-of-type {\n",
       "        vertical-align: middle;\n",
       "    }\n",
       "\n",
       "    .dataframe tbody tr th {\n",
       "        vertical-align: top;\n",
       "    }\n",
       "\n",
       "    .dataframe thead th {\n",
       "        text-align: right;\n",
       "    }\n",
       "</style>\n",
       "<table border=\"1\" class=\"dataframe\">\n",
       "  <thead>\n",
       "    <tr style=\"text-align: right;\">\n",
       "      <th></th>\n",
       "      <th>youthid</th>\n",
       "      <th>extrprob</th>\n",
       "      <th>gender</th>\n",
       "      <th>chwgtlb</th>\n",
       "      <th>chwgtoz</th>\n",
       "      <th>chlddob</th>\n",
       "      <th>parnted</th>\n",
       "      <th>yuthethn</th>\n",
       "      <th>behreg</th>\n",
       "    </tr>\n",
       "  </thead>\n",
       "  <tbody>\n",
       "    <tr>\n",
       "      <th>0</th>\n",
       "      <td>1001</td>\n",
       "      <td>51.0</td>\n",
       "      <td>Child gender girl</td>\n",
       "      <td>8.0</td>\n",
       "      <td>1.0</td>\n",
       "      <td>18 May 07</td>\n",
       "      <td>Some college</td>\n",
       "      <td>Yes</td>\n",
       "      <td>2.0</td>\n",
       "    </tr>\n",
       "    <tr>\n",
       "      <th>1</th>\n",
       "      <td>1002</td>\n",
       "      <td>44.0</td>\n",
       "      <td>Child gender girl</td>\n",
       "      <td>5.0</td>\n",
       "      <td>11.0</td>\n",
       "      <td>22 Jun 07</td>\n",
       "      <td>Less than 8yrs</td>\n",
       "      <td>Yes</td>\n",
       "      <td>3.0</td>\n",
       "    </tr>\n",
       "    <tr>\n",
       "      <th>2</th>\n",
       "      <td>1003</td>\n",
       "      <td>46.0</td>\n",
       "      <td>Child gender girl</td>\n",
       "      <td>7.0</td>\n",
       "      <td>0.0</td>\n",
       "      <td>01 Jul 07</td>\n",
       "      <td>HS/GED</td>\n",
       "      <td>Yes</td>\n",
       "      <td>5.0</td>\n",
       "    </tr>\n",
       "    <tr>\n",
       "      <th>3</th>\n",
       "      <td>1004</td>\n",
       "      <td>51.0</td>\n",
       "      <td>Child gender boy</td>\n",
       "      <td>8.0</td>\n",
       "      <td>0.0</td>\n",
       "      <td>28 Jun 07</td>\n",
       "      <td>Some college</td>\n",
       "      <td>Yes</td>\n",
       "      <td>2.0</td>\n",
       "    </tr>\n",
       "    <tr>\n",
       "      <th>4</th>\n",
       "      <td>1005</td>\n",
       "      <td>47.0</td>\n",
       "      <td>Child gender girl</td>\n",
       "      <td>6.0</td>\n",
       "      <td>8.0</td>\n",
       "      <td>11 Jun 07</td>\n",
       "      <td>HS/GED</td>\n",
       "      <td>Yes</td>\n",
       "      <td>4.0</td>\n",
       "    </tr>\n",
       "    <tr>\n",
       "      <th>...</th>\n",
       "      <td>...</td>\n",
       "      <td>...</td>\n",
       "      <td>...</td>\n",
       "      <td>...</td>\n",
       "      <td>...</td>\n",
       "      <td>...</td>\n",
       "      <td>...</td>\n",
       "      <td>...</td>\n",
       "      <td>...</td>\n",
       "    </tr>\n",
       "    <tr>\n",
       "      <th>402</th>\n",
       "      <td>2201</td>\n",
       "      <td>47.0</td>\n",
       "      <td>Child gender boy</td>\n",
       "      <td>6.0</td>\n",
       "      <td>7.0</td>\n",
       "      <td>30 Jul 08</td>\n",
       "      <td>Some college</td>\n",
       "      <td>No</td>\n",
       "      <td>3.0</td>\n",
       "    </tr>\n",
       "    <tr>\n",
       "      <th>403</th>\n",
       "      <td>2202</td>\n",
       "      <td>35.0</td>\n",
       "      <td>Child gender boy</td>\n",
       "      <td>8.0</td>\n",
       "      <td>8.0</td>\n",
       "      <td>27 Jul 08</td>\n",
       "      <td>9-12yr, no diploma</td>\n",
       "      <td>No</td>\n",
       "      <td>0.0</td>\n",
       "    </tr>\n",
       "    <tr>\n",
       "      <th>404</th>\n",
       "      <td>2203</td>\n",
       "      <td>37.0</td>\n",
       "      <td>Child gender girl</td>\n",
       "      <td>7.0</td>\n",
       "      <td>9.0</td>\n",
       "      <td>23 Jul 08</td>\n",
       "      <td>HS/GED</td>\n",
       "      <td>No</td>\n",
       "      <td>0.0</td>\n",
       "    </tr>\n",
       "    <tr>\n",
       "      <th>405</th>\n",
       "      <td>2204</td>\n",
       "      <td>62.0</td>\n",
       "      <td>Child gender girl</td>\n",
       "      <td>6.0</td>\n",
       "      <td>11.0</td>\n",
       "      <td>28 Jul 08</td>\n",
       "      <td>HS/GED</td>\n",
       "      <td>No</td>\n",
       "      <td>4.0</td>\n",
       "    </tr>\n",
       "    <tr>\n",
       "      <th>406</th>\n",
       "      <td>2205</td>\n",
       "      <td>47.0</td>\n",
       "      <td>Child gender boy</td>\n",
       "      <td>7.0</td>\n",
       "      <td>6.0</td>\n",
       "      <td>22 Jul 08</td>\n",
       "      <td>9-12yr, no diploma</td>\n",
       "      <td>No</td>\n",
       "      <td>4.0</td>\n",
       "    </tr>\n",
       "  </tbody>\n",
       "</table>\n",
       "<p>407 rows × 9 columns</p>\n",
       "</div>"
      ],
      "text/plain": [
       "     youthid  extrprob             gender  chwgtlb  chwgtoz    chlddob  \\\n",
       "0       1001      51.0  Child gender girl      8.0      1.0  18 May 07   \n",
       "1       1002      44.0  Child gender girl      5.0     11.0  22 Jun 07   \n",
       "2       1003      46.0  Child gender girl      7.0      0.0  01 Jul 07   \n",
       "3       1004      51.0   Child gender boy      8.0      0.0  28 Jun 07   \n",
       "4       1005      47.0  Child gender girl      6.0      8.0  11 Jun 07   \n",
       "..       ...       ...                ...      ...      ...        ...   \n",
       "402     2201      47.0   Child gender boy      6.0      7.0  30 Jul 08   \n",
       "403     2202      35.0   Child gender boy      8.0      8.0  27 Jul 08   \n",
       "404     2203      37.0  Child gender girl      7.0      9.0  23 Jul 08   \n",
       "405     2204      62.0  Child gender girl      6.0     11.0  28 Jul 08   \n",
       "406     2205      47.0   Child gender boy      7.0      6.0  22 Jul 08   \n",
       "\n",
       "                parnted yuthethn  behreg  \n",
       "0          Some college      Yes     2.0  \n",
       "1        Less than 8yrs      Yes     3.0  \n",
       "2                HS/GED      Yes     5.0  \n",
       "3          Some college      Yes     2.0  \n",
       "4                HS/GED      Yes     4.0  \n",
       "..                  ...      ...     ...  \n",
       "402        Some college       No     3.0  \n",
       "403  9-12yr, no diploma       No     0.0  \n",
       "404              HS/GED       No     0.0  \n",
       "405              HS/GED       No     4.0  \n",
       "406  9-12yr, no diploma       No     4.0  \n",
       "\n",
       "[407 rows x 9 columns]"
      ]
     },
     "execution_count": 368,
     "metadata": {},
     "output_type": "execute_result"
    }
   ],
   "source": [
    "youthid = df['youthid']\n",
    "no_youthid = df.drop(columns = 'youthid')\n",
    "new_df = pd.concat([youthid, no_youthid], axis = 1)\n",
    "new_df"
   ]
  },
  {
   "cell_type": "markdown",
   "metadata": {},
   "source": [
    "1. before changing the format of a column we need to find out what the data type of the column is \n",
    "    in this case the data type of the column chlddob is object"
   ]
  },
  {
   "cell_type": "code",
   "execution_count": 369,
   "metadata": {
    "scrolled": false
   },
   "outputs": [
    {
     "data": {
      "text/plain": [
       "youthid       int64\n",
       "extrprob    float64\n",
       "gender       object\n",
       "chwgtlb     float64\n",
       "chwgtoz     float64\n",
       "chlddob      object\n",
       "parnted      object\n",
       "yuthethn     object\n",
       "behreg      float64\n",
       "dtype: object"
      ]
     },
     "execution_count": 369,
     "metadata": {},
     "output_type": "execute_result"
    }
   ],
   "source": [
    "new_df.dtypes"
   ]
  },
  {
   "cell_type": "markdown",
   "metadata": {},
   "source": [
    "2. since the column we want to change is type object, we need to convert the column to a datetime type\n",
    "    to do this, use the to_datetime() function"
   ]
  },
  {
   "cell_type": "code",
   "execution_count": 370,
   "metadata": {
    "scrolled": true
   },
   "outputs": [
    {
     "data": {
      "text/html": [
       "<div>\n",
       "<style scoped>\n",
       "    .dataframe tbody tr th:only-of-type {\n",
       "        vertical-align: middle;\n",
       "    }\n",
       "\n",
       "    .dataframe tbody tr th {\n",
       "        vertical-align: top;\n",
       "    }\n",
       "\n",
       "    .dataframe thead th {\n",
       "        text-align: right;\n",
       "    }\n",
       "</style>\n",
       "<table border=\"1\" class=\"dataframe\">\n",
       "  <thead>\n",
       "    <tr style=\"text-align: right;\">\n",
       "      <th></th>\n",
       "      <th>youthid</th>\n",
       "      <th>extrprob</th>\n",
       "      <th>gender</th>\n",
       "      <th>chwgtlb</th>\n",
       "      <th>chwgtoz</th>\n",
       "      <th>chlddob</th>\n",
       "      <th>parnted</th>\n",
       "      <th>yuthethn</th>\n",
       "      <th>behreg</th>\n",
       "    </tr>\n",
       "  </thead>\n",
       "  <tbody>\n",
       "    <tr>\n",
       "      <th>0</th>\n",
       "      <td>1001</td>\n",
       "      <td>51.0</td>\n",
       "      <td>Child gender girl</td>\n",
       "      <td>8.0</td>\n",
       "      <td>1.0</td>\n",
       "      <td>2007-05-18</td>\n",
       "      <td>Some college</td>\n",
       "      <td>Yes</td>\n",
       "      <td>2.0</td>\n",
       "    </tr>\n",
       "    <tr>\n",
       "      <th>1</th>\n",
       "      <td>1002</td>\n",
       "      <td>44.0</td>\n",
       "      <td>Child gender girl</td>\n",
       "      <td>5.0</td>\n",
       "      <td>11.0</td>\n",
       "      <td>2007-06-22</td>\n",
       "      <td>Less than 8yrs</td>\n",
       "      <td>Yes</td>\n",
       "      <td>3.0</td>\n",
       "    </tr>\n",
       "    <tr>\n",
       "      <th>2</th>\n",
       "      <td>1003</td>\n",
       "      <td>46.0</td>\n",
       "      <td>Child gender girl</td>\n",
       "      <td>7.0</td>\n",
       "      <td>0.0</td>\n",
       "      <td>2007-07-01</td>\n",
       "      <td>HS/GED</td>\n",
       "      <td>Yes</td>\n",
       "      <td>5.0</td>\n",
       "    </tr>\n",
       "    <tr>\n",
       "      <th>3</th>\n",
       "      <td>1004</td>\n",
       "      <td>51.0</td>\n",
       "      <td>Child gender boy</td>\n",
       "      <td>8.0</td>\n",
       "      <td>0.0</td>\n",
       "      <td>2007-06-28</td>\n",
       "      <td>Some college</td>\n",
       "      <td>Yes</td>\n",
       "      <td>2.0</td>\n",
       "    </tr>\n",
       "    <tr>\n",
       "      <th>4</th>\n",
       "      <td>1005</td>\n",
       "      <td>47.0</td>\n",
       "      <td>Child gender girl</td>\n",
       "      <td>6.0</td>\n",
       "      <td>8.0</td>\n",
       "      <td>2007-06-11</td>\n",
       "      <td>HS/GED</td>\n",
       "      <td>Yes</td>\n",
       "      <td>4.0</td>\n",
       "    </tr>\n",
       "    <tr>\n",
       "      <th>...</th>\n",
       "      <td>...</td>\n",
       "      <td>...</td>\n",
       "      <td>...</td>\n",
       "      <td>...</td>\n",
       "      <td>...</td>\n",
       "      <td>...</td>\n",
       "      <td>...</td>\n",
       "      <td>...</td>\n",
       "      <td>...</td>\n",
       "    </tr>\n",
       "    <tr>\n",
       "      <th>402</th>\n",
       "      <td>2201</td>\n",
       "      <td>47.0</td>\n",
       "      <td>Child gender boy</td>\n",
       "      <td>6.0</td>\n",
       "      <td>7.0</td>\n",
       "      <td>2008-07-30</td>\n",
       "      <td>Some college</td>\n",
       "      <td>No</td>\n",
       "      <td>3.0</td>\n",
       "    </tr>\n",
       "    <tr>\n",
       "      <th>403</th>\n",
       "      <td>2202</td>\n",
       "      <td>35.0</td>\n",
       "      <td>Child gender boy</td>\n",
       "      <td>8.0</td>\n",
       "      <td>8.0</td>\n",
       "      <td>2008-07-27</td>\n",
       "      <td>9-12yr, no diploma</td>\n",
       "      <td>No</td>\n",
       "      <td>0.0</td>\n",
       "    </tr>\n",
       "    <tr>\n",
       "      <th>404</th>\n",
       "      <td>2203</td>\n",
       "      <td>37.0</td>\n",
       "      <td>Child gender girl</td>\n",
       "      <td>7.0</td>\n",
       "      <td>9.0</td>\n",
       "      <td>2008-07-23</td>\n",
       "      <td>HS/GED</td>\n",
       "      <td>No</td>\n",
       "      <td>0.0</td>\n",
       "    </tr>\n",
       "    <tr>\n",
       "      <th>405</th>\n",
       "      <td>2204</td>\n",
       "      <td>62.0</td>\n",
       "      <td>Child gender girl</td>\n",
       "      <td>6.0</td>\n",
       "      <td>11.0</td>\n",
       "      <td>2008-07-28</td>\n",
       "      <td>HS/GED</td>\n",
       "      <td>No</td>\n",
       "      <td>4.0</td>\n",
       "    </tr>\n",
       "    <tr>\n",
       "      <th>406</th>\n",
       "      <td>2205</td>\n",
       "      <td>47.0</td>\n",
       "      <td>Child gender boy</td>\n",
       "      <td>7.0</td>\n",
       "      <td>6.0</td>\n",
       "      <td>2008-07-22</td>\n",
       "      <td>9-12yr, no diploma</td>\n",
       "      <td>No</td>\n",
       "      <td>4.0</td>\n",
       "    </tr>\n",
       "  </tbody>\n",
       "</table>\n",
       "<p>407 rows × 9 columns</p>\n",
       "</div>"
      ],
      "text/plain": [
       "     youthid  extrprob             gender  chwgtlb  chwgtoz    chlddob  \\\n",
       "0       1001      51.0  Child gender girl      8.0      1.0 2007-05-18   \n",
       "1       1002      44.0  Child gender girl      5.0     11.0 2007-06-22   \n",
       "2       1003      46.0  Child gender girl      7.0      0.0 2007-07-01   \n",
       "3       1004      51.0   Child gender boy      8.0      0.0 2007-06-28   \n",
       "4       1005      47.0  Child gender girl      6.0      8.0 2007-06-11   \n",
       "..       ...       ...                ...      ...      ...        ...   \n",
       "402     2201      47.0   Child gender boy      6.0      7.0 2008-07-30   \n",
       "403     2202      35.0   Child gender boy      8.0      8.0 2008-07-27   \n",
       "404     2203      37.0  Child gender girl      7.0      9.0 2008-07-23   \n",
       "405     2204      62.0  Child gender girl      6.0     11.0 2008-07-28   \n",
       "406     2205      47.0   Child gender boy      7.0      6.0 2008-07-22   \n",
       "\n",
       "                parnted yuthethn  behreg  \n",
       "0          Some college      Yes     2.0  \n",
       "1        Less than 8yrs      Yes     3.0  \n",
       "2                HS/GED      Yes     5.0  \n",
       "3          Some college      Yes     2.0  \n",
       "4                HS/GED      Yes     4.0  \n",
       "..                  ...      ...     ...  \n",
       "402        Some college       No     3.0  \n",
       "403  9-12yr, no diploma       No     0.0  \n",
       "404              HS/GED       No     0.0  \n",
       "405              HS/GED       No     4.0  \n",
       "406  9-12yr, no diploma       No     4.0  \n",
       "\n",
       "[407 rows x 9 columns]"
      ]
     },
     "execution_count": 370,
     "metadata": {},
     "output_type": "execute_result"
    }
   ],
   "source": [
    "new_df['chlddob'] = pd.to_datetime(new_df['chlddob'])\n",
    "new_df"
   ]
  },
  {
   "cell_type": "markdown",
   "metadata": {},
   "source": [
    "3. if the change was made, we can check the data types of our columns again, \n",
    "    below it shows the column chlddob is now changed to datetime64 "
   ]
  },
  {
   "cell_type": "code",
   "execution_count": 371,
   "metadata": {
    "scrolled": false
   },
   "outputs": [
    {
     "data": {
      "text/plain": [
       "youthid              int64\n",
       "extrprob           float64\n",
       "gender              object\n",
       "chwgtlb            float64\n",
       "chwgtoz            float64\n",
       "chlddob     datetime64[ns]\n",
       "parnted             object\n",
       "yuthethn            object\n",
       "behreg             float64\n",
       "dtype: object"
      ]
     },
     "execution_count": 371,
     "metadata": {},
     "output_type": "execute_result"
    }
   ],
   "source": [
    "new_df.dtypes"
   ]
  },
  {
   "cell_type": "markdown",
   "metadata": {},
   "source": [
    "# break\n",
    "I orginially thought that it was not possible to subtract a column of dates from a single specific date like column new_df['chlddob'] to 12/31/2020\n",
    "\n",
    "So I  made a column that contained the date 12/31/2020 four hundred and seven times so that I could subtract both columns and get the age for all\n",
    "\n",
    "then I used the floor() function to round down for accuracy of age calculation\n",
    "\n"
   ]
  },
  {
   "cell_type": "code",
   "execution_count": 372,
   "metadata": {},
   "outputs": [
    {
     "data": {
      "text/html": [
       "<div>\n",
       "<style scoped>\n",
       "    .dataframe tbody tr th:only-of-type {\n",
       "        vertical-align: middle;\n",
       "    }\n",
       "\n",
       "    .dataframe tbody tr th {\n",
       "        vertical-align: top;\n",
       "    }\n",
       "\n",
       "    .dataframe thead th {\n",
       "        text-align: right;\n",
       "    }\n",
       "</style>\n",
       "<table border=\"1\" class=\"dataframe\">\n",
       "  <thead>\n",
       "    <tr style=\"text-align: right;\">\n",
       "      <th></th>\n",
       "      <th>0</th>\n",
       "    </tr>\n",
       "  </thead>\n",
       "  <tbody>\n",
       "    <tr>\n",
       "      <th>0</th>\n",
       "      <td>2020-12-31</td>\n",
       "    </tr>\n",
       "    <tr>\n",
       "      <th>1</th>\n",
       "      <td>2020-12-31</td>\n",
       "    </tr>\n",
       "    <tr>\n",
       "      <th>2</th>\n",
       "      <td>2020-12-31</td>\n",
       "    </tr>\n",
       "    <tr>\n",
       "      <th>3</th>\n",
       "      <td>2020-12-31</td>\n",
       "    </tr>\n",
       "    <tr>\n",
       "      <th>4</th>\n",
       "      <td>2020-12-31</td>\n",
       "    </tr>\n",
       "    <tr>\n",
       "      <th>...</th>\n",
       "      <td>...</td>\n",
       "    </tr>\n",
       "    <tr>\n",
       "      <th>402</th>\n",
       "      <td>2020-12-31</td>\n",
       "    </tr>\n",
       "    <tr>\n",
       "      <th>403</th>\n",
       "      <td>2020-12-31</td>\n",
       "    </tr>\n",
       "    <tr>\n",
       "      <th>404</th>\n",
       "      <td>2020-12-31</td>\n",
       "    </tr>\n",
       "    <tr>\n",
       "      <th>405</th>\n",
       "      <td>2020-12-31</td>\n",
       "    </tr>\n",
       "    <tr>\n",
       "      <th>406</th>\n",
       "      <td>2020-12-31</td>\n",
       "    </tr>\n",
       "  </tbody>\n",
       "</table>\n",
       "<p>407 rows × 1 columns</p>\n",
       "</div>"
      ],
      "text/plain": [
       "             0\n",
       "0   2020-12-31\n",
       "1   2020-12-31\n",
       "2   2020-12-31\n",
       "3   2020-12-31\n",
       "4   2020-12-31\n",
       "..         ...\n",
       "402 2020-12-31\n",
       "403 2020-12-31\n",
       "404 2020-12-31\n",
       "405 2020-12-31\n",
       "406 2020-12-31\n",
       "\n",
       "[407 rows x 1 columns]"
      ]
     },
     "execution_count": 372,
     "metadata": {},
     "output_type": "execute_result"
    }
   ],
   "source": [
    "a = pd.DataFrame([dt.date(2020, 12, 31)]*407)\n",
    "a[0] = pd.to_datetime(a[0])\n",
    "a"
   ]
  },
  {
   "cell_type": "code",
   "execution_count": 343,
   "metadata": {
    "scrolled": true
   },
   "outputs": [
    {
     "data": {
      "text/plain": [
       "0      13.0\n",
       "1      13.0\n",
       "2      13.0\n",
       "3      13.0\n",
       "4      13.0\n",
       "       ... \n",
       "402    12.0\n",
       "403    12.0\n",
       "404    12.0\n",
       "405    12.0\n",
       "406    12.0\n",
       "Length: 407, dtype: float64"
      ]
     },
     "execution_count": 343,
     "metadata": {},
     "output_type": "execute_result"
    }
   ],
   "source": [
    "hehe = a[0] -  new_df['chlddob']\n",
    "np.floor(hehe/ dt.timedelta(days=365))"
   ]
  },
  {
   "cell_type": "markdown",
   "metadata": {},
   "source": [
    "I did this in this particular point in time since I had to convert the datatype of the chlddob to datetime64, which was needed for this function to work\n",
    "\n",
    "# 4"
   ]
  },
  {
   "cell_type": "code",
   "execution_count": 373,
   "metadata": {},
   "outputs": [
    {
     "data": {
      "text/plain": [
       "0      13.0\n",
       "1      13.0\n",
       "2      13.0\n",
       "3      13.0\n",
       "4      13.0\n",
       "       ... \n",
       "402    12.0\n",
       "403    12.0\n",
       "404    12.0\n",
       "405    12.0\n",
       "406    12.0\n",
       "Name: Age, Length: 407, dtype: float64"
      ]
     },
     "execution_count": 373,
     "metadata": {},
     "output_type": "execute_result"
    }
   ],
   "source": [
    "age = np.datetime64('2020-12-31') - new_df['chlddob']\n",
    "new_df['Age'] = np.floor(age/dt.timedelta(days=365))\n",
    "new_df['Age']"
   ]
  },
  {
   "cell_type": "markdown",
   "metadata": {},
   "source": [
    "# break"
   ]
  },
  {
   "cell_type": "markdown",
   "metadata": {},
   "source": [
    "4. we changed the data type so that we could use the function dt.strftime()\n",
    "    which is a function that formats the DOB \n",
    "    this specific function will only format data with data type of datetime64\n",
    "    once it is changed, the data type will also be changed to object"
   ]
  },
  {
   "cell_type": "code",
   "execution_count": 374,
   "metadata": {},
   "outputs": [
    {
     "data": {
      "text/html": [
       "<div>\n",
       "<style scoped>\n",
       "    .dataframe tbody tr th:only-of-type {\n",
       "        vertical-align: middle;\n",
       "    }\n",
       "\n",
       "    .dataframe tbody tr th {\n",
       "        vertical-align: top;\n",
       "    }\n",
       "\n",
       "    .dataframe thead th {\n",
       "        text-align: right;\n",
       "    }\n",
       "</style>\n",
       "<table border=\"1\" class=\"dataframe\">\n",
       "  <thead>\n",
       "    <tr style=\"text-align: right;\">\n",
       "      <th></th>\n",
       "      <th>youthid</th>\n",
       "      <th>extrprob</th>\n",
       "      <th>gender</th>\n",
       "      <th>chwgtlb</th>\n",
       "      <th>chwgtoz</th>\n",
       "      <th>chlddob</th>\n",
       "      <th>parnted</th>\n",
       "      <th>yuthethn</th>\n",
       "      <th>behreg</th>\n",
       "      <th>Age</th>\n",
       "    </tr>\n",
       "  </thead>\n",
       "  <tbody>\n",
       "    <tr>\n",
       "      <th>0</th>\n",
       "      <td>1001</td>\n",
       "      <td>51.0</td>\n",
       "      <td>Child gender girl</td>\n",
       "      <td>8.0</td>\n",
       "      <td>1.0</td>\n",
       "      <td>05/18/2007</td>\n",
       "      <td>Some college</td>\n",
       "      <td>Yes</td>\n",
       "      <td>2.0</td>\n",
       "      <td>13.0</td>\n",
       "    </tr>\n",
       "    <tr>\n",
       "      <th>1</th>\n",
       "      <td>1002</td>\n",
       "      <td>44.0</td>\n",
       "      <td>Child gender girl</td>\n",
       "      <td>5.0</td>\n",
       "      <td>11.0</td>\n",
       "      <td>06/22/2007</td>\n",
       "      <td>Less than 8yrs</td>\n",
       "      <td>Yes</td>\n",
       "      <td>3.0</td>\n",
       "      <td>13.0</td>\n",
       "    </tr>\n",
       "    <tr>\n",
       "      <th>2</th>\n",
       "      <td>1003</td>\n",
       "      <td>46.0</td>\n",
       "      <td>Child gender girl</td>\n",
       "      <td>7.0</td>\n",
       "      <td>0.0</td>\n",
       "      <td>07/01/2007</td>\n",
       "      <td>HS/GED</td>\n",
       "      <td>Yes</td>\n",
       "      <td>5.0</td>\n",
       "      <td>13.0</td>\n",
       "    </tr>\n",
       "    <tr>\n",
       "      <th>3</th>\n",
       "      <td>1004</td>\n",
       "      <td>51.0</td>\n",
       "      <td>Child gender boy</td>\n",
       "      <td>8.0</td>\n",
       "      <td>0.0</td>\n",
       "      <td>06/28/2007</td>\n",
       "      <td>Some college</td>\n",
       "      <td>Yes</td>\n",
       "      <td>2.0</td>\n",
       "      <td>13.0</td>\n",
       "    </tr>\n",
       "    <tr>\n",
       "      <th>4</th>\n",
       "      <td>1005</td>\n",
       "      <td>47.0</td>\n",
       "      <td>Child gender girl</td>\n",
       "      <td>6.0</td>\n",
       "      <td>8.0</td>\n",
       "      <td>06/11/2007</td>\n",
       "      <td>HS/GED</td>\n",
       "      <td>Yes</td>\n",
       "      <td>4.0</td>\n",
       "      <td>13.0</td>\n",
       "    </tr>\n",
       "    <tr>\n",
       "      <th>...</th>\n",
       "      <td>...</td>\n",
       "      <td>...</td>\n",
       "      <td>...</td>\n",
       "      <td>...</td>\n",
       "      <td>...</td>\n",
       "      <td>...</td>\n",
       "      <td>...</td>\n",
       "      <td>...</td>\n",
       "      <td>...</td>\n",
       "      <td>...</td>\n",
       "    </tr>\n",
       "    <tr>\n",
       "      <th>402</th>\n",
       "      <td>2201</td>\n",
       "      <td>47.0</td>\n",
       "      <td>Child gender boy</td>\n",
       "      <td>6.0</td>\n",
       "      <td>7.0</td>\n",
       "      <td>07/30/2008</td>\n",
       "      <td>Some college</td>\n",
       "      <td>No</td>\n",
       "      <td>3.0</td>\n",
       "      <td>12.0</td>\n",
       "    </tr>\n",
       "    <tr>\n",
       "      <th>403</th>\n",
       "      <td>2202</td>\n",
       "      <td>35.0</td>\n",
       "      <td>Child gender boy</td>\n",
       "      <td>8.0</td>\n",
       "      <td>8.0</td>\n",
       "      <td>07/27/2008</td>\n",
       "      <td>9-12yr, no diploma</td>\n",
       "      <td>No</td>\n",
       "      <td>0.0</td>\n",
       "      <td>12.0</td>\n",
       "    </tr>\n",
       "    <tr>\n",
       "      <th>404</th>\n",
       "      <td>2203</td>\n",
       "      <td>37.0</td>\n",
       "      <td>Child gender girl</td>\n",
       "      <td>7.0</td>\n",
       "      <td>9.0</td>\n",
       "      <td>07/23/2008</td>\n",
       "      <td>HS/GED</td>\n",
       "      <td>No</td>\n",
       "      <td>0.0</td>\n",
       "      <td>12.0</td>\n",
       "    </tr>\n",
       "    <tr>\n",
       "      <th>405</th>\n",
       "      <td>2204</td>\n",
       "      <td>62.0</td>\n",
       "      <td>Child gender girl</td>\n",
       "      <td>6.0</td>\n",
       "      <td>11.0</td>\n",
       "      <td>07/28/2008</td>\n",
       "      <td>HS/GED</td>\n",
       "      <td>No</td>\n",
       "      <td>4.0</td>\n",
       "      <td>12.0</td>\n",
       "    </tr>\n",
       "    <tr>\n",
       "      <th>406</th>\n",
       "      <td>2205</td>\n",
       "      <td>47.0</td>\n",
       "      <td>Child gender boy</td>\n",
       "      <td>7.0</td>\n",
       "      <td>6.0</td>\n",
       "      <td>07/22/2008</td>\n",
       "      <td>9-12yr, no diploma</td>\n",
       "      <td>No</td>\n",
       "      <td>4.0</td>\n",
       "      <td>12.0</td>\n",
       "    </tr>\n",
       "  </tbody>\n",
       "</table>\n",
       "<p>407 rows × 10 columns</p>\n",
       "</div>"
      ],
      "text/plain": [
       "     youthid  extrprob             gender  chwgtlb  chwgtoz     chlddob  \\\n",
       "0       1001      51.0  Child gender girl      8.0      1.0  05/18/2007   \n",
       "1       1002      44.0  Child gender girl      5.0     11.0  06/22/2007   \n",
       "2       1003      46.0  Child gender girl      7.0      0.0  07/01/2007   \n",
       "3       1004      51.0   Child gender boy      8.0      0.0  06/28/2007   \n",
       "4       1005      47.0  Child gender girl      6.0      8.0  06/11/2007   \n",
       "..       ...       ...                ...      ...      ...         ...   \n",
       "402     2201      47.0   Child gender boy      6.0      7.0  07/30/2008   \n",
       "403     2202      35.0   Child gender boy      8.0      8.0  07/27/2008   \n",
       "404     2203      37.0  Child gender girl      7.0      9.0  07/23/2008   \n",
       "405     2204      62.0  Child gender girl      6.0     11.0  07/28/2008   \n",
       "406     2205      47.0   Child gender boy      7.0      6.0  07/22/2008   \n",
       "\n",
       "                parnted yuthethn  behreg   Age  \n",
       "0          Some college      Yes     2.0  13.0  \n",
       "1        Less than 8yrs      Yes     3.0  13.0  \n",
       "2                HS/GED      Yes     5.0  13.0  \n",
       "3          Some college      Yes     2.0  13.0  \n",
       "4                HS/GED      Yes     4.0  13.0  \n",
       "..                  ...      ...     ...   ...  \n",
       "402        Some college       No     3.0  12.0  \n",
       "403  9-12yr, no diploma       No     0.0  12.0  \n",
       "404              HS/GED       No     0.0  12.0  \n",
       "405              HS/GED       No     4.0  12.0  \n",
       "406  9-12yr, no diploma       No     4.0  12.0  \n",
       "\n",
       "[407 rows x 10 columns]"
      ]
     },
     "execution_count": 374,
     "metadata": {},
     "output_type": "execute_result"
    }
   ],
   "source": [
    "new_df['chlddob'] = new_df['chlddob'].dt.strftime('%m/%d/%Y')\n",
    "new_df"
   ]
  },
  {
   "cell_type": "code",
   "execution_count": 375,
   "metadata": {
    "scrolled": true
   },
   "outputs": [
    {
     "data": {
      "text/plain": [
       "youthid       int64\n",
       "extrprob    float64\n",
       "gender       object\n",
       "chwgtlb     float64\n",
       "chwgtoz     float64\n",
       "chlddob      object\n",
       "parnted      object\n",
       "yuthethn     object\n",
       "behreg      float64\n",
       "Age         float64\n",
       "dtype: object"
      ]
     },
     "execution_count": 375,
     "metadata": {},
     "output_type": "execute_result"
    }
   ],
   "source": [
    "new_df.dtypes"
   ]
  },
  {
   "cell_type": "markdown",
   "metadata": {},
   "source": [
    "# 4 \n",
    "compute the childs age as of 12/31/2020. Make sure you identify the formula you use\n",
    "12/31/2020 minus DOB"
   ]
  },
  {
   "cell_type": "code",
   "execution_count": null,
   "metadata": {},
   "outputs": [],
   "source": []
  },
  {
   "cell_type": "code",
   "execution_count": null,
   "metadata": {},
   "outputs": [],
   "source": []
  },
  {
   "cell_type": "code",
   "execution_count": null,
   "metadata": {},
   "outputs": [],
   "source": []
  },
  {
   "cell_type": "markdown",
   "metadata": {},
   "source": [
    "# 5\n",
    "combine chwgtlb(childs weight in pounds) and chwgtoz(childs weight in ounces), so that it shows as a decimal value\n",
    "\n",
    "change the chwgtoz as two decimal places in variable new_chwgtoz\n",
    "then add chwgtlb and new_chwgtoz so that, save in variable brthwgt\n",
    "add column brthwgt to new_df\n",
    "\n",
    "1oz = .0625 lbs"
   ]
  },
  {
   "cell_type": "code",
   "execution_count": 376,
   "metadata": {},
   "outputs": [
    {
     "data": {
      "text/html": [
       "<div>\n",
       "<style scoped>\n",
       "    .dataframe tbody tr th:only-of-type {\n",
       "        vertical-align: middle;\n",
       "    }\n",
       "\n",
       "    .dataframe tbody tr th {\n",
       "        vertical-align: top;\n",
       "    }\n",
       "\n",
       "    .dataframe thead th {\n",
       "        text-align: right;\n",
       "    }\n",
       "</style>\n",
       "<table border=\"1\" class=\"dataframe\">\n",
       "  <thead>\n",
       "    <tr style=\"text-align: right;\">\n",
       "      <th></th>\n",
       "      <th>youthid</th>\n",
       "      <th>extrprob</th>\n",
       "      <th>gender</th>\n",
       "      <th>chwgtlb</th>\n",
       "      <th>chwgtoz</th>\n",
       "      <th>chlddob</th>\n",
       "      <th>parnted</th>\n",
       "      <th>yuthethn</th>\n",
       "      <th>behreg</th>\n",
       "      <th>Age</th>\n",
       "      <th>brthwgt</th>\n",
       "    </tr>\n",
       "  </thead>\n",
       "  <tbody>\n",
       "    <tr>\n",
       "      <th>0</th>\n",
       "      <td>1001</td>\n",
       "      <td>51.0</td>\n",
       "      <td>Child gender girl</td>\n",
       "      <td>8.0</td>\n",
       "      <td>1.0</td>\n",
       "      <td>05/18/2007</td>\n",
       "      <td>Some college</td>\n",
       "      <td>Yes</td>\n",
       "      <td>2.0</td>\n",
       "      <td>13.0</td>\n",
       "      <td>8.06</td>\n",
       "    </tr>\n",
       "    <tr>\n",
       "      <th>1</th>\n",
       "      <td>1002</td>\n",
       "      <td>44.0</td>\n",
       "      <td>Child gender girl</td>\n",
       "      <td>5.0</td>\n",
       "      <td>11.0</td>\n",
       "      <td>06/22/2007</td>\n",
       "      <td>Less than 8yrs</td>\n",
       "      <td>Yes</td>\n",
       "      <td>3.0</td>\n",
       "      <td>13.0</td>\n",
       "      <td>5.69</td>\n",
       "    </tr>\n",
       "    <tr>\n",
       "      <th>2</th>\n",
       "      <td>1003</td>\n",
       "      <td>46.0</td>\n",
       "      <td>Child gender girl</td>\n",
       "      <td>7.0</td>\n",
       "      <td>0.0</td>\n",
       "      <td>07/01/2007</td>\n",
       "      <td>HS/GED</td>\n",
       "      <td>Yes</td>\n",
       "      <td>5.0</td>\n",
       "      <td>13.0</td>\n",
       "      <td>7.00</td>\n",
       "    </tr>\n",
       "    <tr>\n",
       "      <th>3</th>\n",
       "      <td>1004</td>\n",
       "      <td>51.0</td>\n",
       "      <td>Child gender boy</td>\n",
       "      <td>8.0</td>\n",
       "      <td>0.0</td>\n",
       "      <td>06/28/2007</td>\n",
       "      <td>Some college</td>\n",
       "      <td>Yes</td>\n",
       "      <td>2.0</td>\n",
       "      <td>13.0</td>\n",
       "      <td>8.00</td>\n",
       "    </tr>\n",
       "    <tr>\n",
       "      <th>4</th>\n",
       "      <td>1005</td>\n",
       "      <td>47.0</td>\n",
       "      <td>Child gender girl</td>\n",
       "      <td>6.0</td>\n",
       "      <td>8.0</td>\n",
       "      <td>06/11/2007</td>\n",
       "      <td>HS/GED</td>\n",
       "      <td>Yes</td>\n",
       "      <td>4.0</td>\n",
       "      <td>13.0</td>\n",
       "      <td>6.50</td>\n",
       "    </tr>\n",
       "    <tr>\n",
       "      <th>...</th>\n",
       "      <td>...</td>\n",
       "      <td>...</td>\n",
       "      <td>...</td>\n",
       "      <td>...</td>\n",
       "      <td>...</td>\n",
       "      <td>...</td>\n",
       "      <td>...</td>\n",
       "      <td>...</td>\n",
       "      <td>...</td>\n",
       "      <td>...</td>\n",
       "      <td>...</td>\n",
       "    </tr>\n",
       "    <tr>\n",
       "      <th>402</th>\n",
       "      <td>2201</td>\n",
       "      <td>47.0</td>\n",
       "      <td>Child gender boy</td>\n",
       "      <td>6.0</td>\n",
       "      <td>7.0</td>\n",
       "      <td>07/30/2008</td>\n",
       "      <td>Some college</td>\n",
       "      <td>No</td>\n",
       "      <td>3.0</td>\n",
       "      <td>12.0</td>\n",
       "      <td>6.44</td>\n",
       "    </tr>\n",
       "    <tr>\n",
       "      <th>403</th>\n",
       "      <td>2202</td>\n",
       "      <td>35.0</td>\n",
       "      <td>Child gender boy</td>\n",
       "      <td>8.0</td>\n",
       "      <td>8.0</td>\n",
       "      <td>07/27/2008</td>\n",
       "      <td>9-12yr, no diploma</td>\n",
       "      <td>No</td>\n",
       "      <td>0.0</td>\n",
       "      <td>12.0</td>\n",
       "      <td>8.50</td>\n",
       "    </tr>\n",
       "    <tr>\n",
       "      <th>404</th>\n",
       "      <td>2203</td>\n",
       "      <td>37.0</td>\n",
       "      <td>Child gender girl</td>\n",
       "      <td>7.0</td>\n",
       "      <td>9.0</td>\n",
       "      <td>07/23/2008</td>\n",
       "      <td>HS/GED</td>\n",
       "      <td>No</td>\n",
       "      <td>0.0</td>\n",
       "      <td>12.0</td>\n",
       "      <td>7.56</td>\n",
       "    </tr>\n",
       "    <tr>\n",
       "      <th>405</th>\n",
       "      <td>2204</td>\n",
       "      <td>62.0</td>\n",
       "      <td>Child gender girl</td>\n",
       "      <td>6.0</td>\n",
       "      <td>11.0</td>\n",
       "      <td>07/28/2008</td>\n",
       "      <td>HS/GED</td>\n",
       "      <td>No</td>\n",
       "      <td>4.0</td>\n",
       "      <td>12.0</td>\n",
       "      <td>6.69</td>\n",
       "    </tr>\n",
       "    <tr>\n",
       "      <th>406</th>\n",
       "      <td>2205</td>\n",
       "      <td>47.0</td>\n",
       "      <td>Child gender boy</td>\n",
       "      <td>7.0</td>\n",
       "      <td>6.0</td>\n",
       "      <td>07/22/2008</td>\n",
       "      <td>9-12yr, no diploma</td>\n",
       "      <td>No</td>\n",
       "      <td>4.0</td>\n",
       "      <td>12.0</td>\n",
       "      <td>7.38</td>\n",
       "    </tr>\n",
       "  </tbody>\n",
       "</table>\n",
       "<p>407 rows × 11 columns</p>\n",
       "</div>"
      ],
      "text/plain": [
       "     youthid  extrprob             gender  chwgtlb  chwgtoz     chlddob  \\\n",
       "0       1001      51.0  Child gender girl      8.0      1.0  05/18/2007   \n",
       "1       1002      44.0  Child gender girl      5.0     11.0  06/22/2007   \n",
       "2       1003      46.0  Child gender girl      7.0      0.0  07/01/2007   \n",
       "3       1004      51.0   Child gender boy      8.0      0.0  06/28/2007   \n",
       "4       1005      47.0  Child gender girl      6.0      8.0  06/11/2007   \n",
       "..       ...       ...                ...      ...      ...         ...   \n",
       "402     2201      47.0   Child gender boy      6.0      7.0  07/30/2008   \n",
       "403     2202      35.0   Child gender boy      8.0      8.0  07/27/2008   \n",
       "404     2203      37.0  Child gender girl      7.0      9.0  07/23/2008   \n",
       "405     2204      62.0  Child gender girl      6.0     11.0  07/28/2008   \n",
       "406     2205      47.0   Child gender boy      7.0      6.0  07/22/2008   \n",
       "\n",
       "                parnted yuthethn  behreg   Age  brthwgt  \n",
       "0          Some college      Yes     2.0  13.0     8.06  \n",
       "1        Less than 8yrs      Yes     3.0  13.0     5.69  \n",
       "2                HS/GED      Yes     5.0  13.0     7.00  \n",
       "3          Some college      Yes     2.0  13.0     8.00  \n",
       "4                HS/GED      Yes     4.0  13.0     6.50  \n",
       "..                  ...      ...     ...   ...      ...  \n",
       "402        Some college       No     3.0  12.0     6.44  \n",
       "403  9-12yr, no diploma       No     0.0  12.0     8.50  \n",
       "404              HS/GED       No     0.0  12.0     7.56  \n",
       "405              HS/GED       No     4.0  12.0     6.69  \n",
       "406  9-12yr, no diploma       No     4.0  12.0     7.38  \n",
       "\n",
       "[407 rows x 11 columns]"
      ]
     },
     "execution_count": 376,
     "metadata": {},
     "output_type": "execute_result"
    }
   ],
   "source": [
    "deci = (new_df['chwgtoz'] * .0625).round(2)\n",
    "new_df['brthwgt'] = deci + new_df['chwgtlb']\n",
    "new_df"
   ]
  },
  {
   "cell_type": "code",
   "execution_count": null,
   "metadata": {},
   "outputs": [],
   "source": []
  },
  {
   "cell_type": "markdown",
   "metadata": {},
   "source": [
    "# 6\n",
    "Find missing values in each column\n",
    "the variable with the most missing values is the behreg\n",
    "Do you think this will be a problem?\n",
    "yes because the data is missing, any data missing is always a problem but \n",
    "It is a minor problem, why? Depends on what kind of questions you are trying to develop an analysis/answer for. It could skew the results and accuracy is affected. There are a few that could be replaced by the average like weight, extraprob, or even by the mean "
   ]
  },
  {
   "cell_type": "code",
   "execution_count": 377,
   "metadata": {},
   "outputs": [
    {
     "data": {
      "text/plain": [
       "youthid      0\n",
       "extrprob     1\n",
       "gender       0\n",
       "chwgtlb      5\n",
       "chwgtoz      5\n",
       "chlddob      3\n",
       "parnted      1\n",
       "yuthethn     0\n",
       "behreg      10\n",
       "Age          3\n",
       "brthwgt      5\n",
       "dtype: int64"
      ]
     },
     "execution_count": 377,
     "metadata": {},
     "output_type": "execute_result"
    }
   ],
   "source": [
    "new_df.isna().sum()"
   ]
  },
  {
   "cell_type": "code",
   "execution_count": 277,
   "metadata": {},
   "outputs": [
    {
     "data": {
      "text/plain": [
       "25"
      ]
     },
     "execution_count": 277,
     "metadata": {},
     "output_type": "execute_result"
    }
   ],
   "source": [
    "new_df.isna().sum().sum()"
   ]
  },
  {
   "cell_type": "code",
   "execution_count": 292,
   "metadata": {},
   "outputs": [
    {
     "data": {
      "text/plain": [
       "19"
      ]
     },
     "execution_count": 292,
     "metadata": {},
     "output_type": "execute_result"
    }
   ],
   "source": [
    "missing_row = pd.DataFrame(new_df.isna().sum(axis = 1))\n",
    "g = missing_row[0] > 0\n",
    "g.sum()"
   ]
  },
  {
   "cell_type": "code",
   "execution_count": 280,
   "metadata": {},
   "outputs": [
    {
     "data": {
      "text/plain": [
       "0.06142506142506143"
      ]
     },
     "execution_count": 280,
     "metadata": {},
     "output_type": "execute_result"
    }
   ],
   "source": [
    "25/407\n"
   ]
  },
  {
   "cell_type": "markdown",
   "metadata": {},
   "source": [
    "# 7 \n",
    "recode the parental education variable so that it has fewer categories and makes sense, explain why youth recategorization approach makes more sense when compared to the original variable\n",
    "\n"
   ]
  },
  {
   "cell_type": "code",
   "execution_count": 61,
   "metadata": {},
   "outputs": [
    {
     "data": {
      "text/plain": [
       "HS/GED                162\n",
       "Some college          103\n",
       "9-12yr, no diploma     80\n",
       "Less than 8yrs         42\n",
       "College degree         16\n",
       "Post-graduate           3\n",
       "Name: parnted, dtype: int64"
      ]
     },
     "execution_count": 61,
     "metadata": {},
     "output_type": "execute_result"
    }
   ],
   "source": [
    "# this will allow me to see all the categories for the parental education column\n",
    "\n",
    "\n",
    "# HS/GED\n",
    "# some college to HS/GED **\n",
    "# 9-12yr, no diploma = no Diploma **\n",
    "# Less than 8yrs = no Diploma **\n",
    "# College Degree \n",
    "# Post-graduate or Masters or College Degree **\n",
    "\n",
    "# best to simplify the categories from 6 to 4 for making more sense, its straighforward\n",
    "# partial education can be taken off\n",
    "\n",
    "new_df['parnted'].value_counts()"
   ]
  },
  {
   "cell_type": "code",
   "execution_count": 402,
   "metadata": {},
   "outputs": [
    {
     "data": {
      "text/plain": [
       "HS/GED            265\n",
       "No diploma        122\n",
       "College degree     16\n",
       "Post-graduate       3\n",
       "Name: parnted, dtype: int64"
      ]
     },
     "execution_count": 402,
     "metadata": {},
     "output_type": "execute_result"
    }
   ],
   "source": [
    "new_df['parnted'] = new_df['parnted'].replace({'Some college':'HS/GED', '9-12yr, no diploma':'No diploma', 'Less than 8yrs':'No diploma'})\n",
    "new_df['parnted'].value_counts()"
   ]
  },
  {
   "cell_type": "markdown",
   "metadata": {},
   "source": [
    "# 8\n",
    "comment on what you see, what does the graph suggest?\n",
    "The youth Behavioral Regulation variable is a measure of a youth’s ability to self-regulate their\n",
    "behavior where higher values represent more developed self-regulatory faculties. Values are limited\n",
    "from 0 to 10. Create a histogram and comment on what you see (what does the graph suggest?).\n",
    "\n",
    "more than half of the kids are at a lower ability to self-regulate their behavior. These kids may have trouble in academics later on or are having a hard time at the moment in their studies. This may also be affecting their social skills at home and school. Ask ourselves how we can make it better? by contacting parents and informing them how language development plays a key role in future development in their children and how to better behavior regulation and how they can play a key role by setting an example.\n",
    "\n",
    "its mostly skewed to the right, kids have a lower behavior regulation, majority of them are below the average(5) of possible behavior regulation score. we can only suggest that majority of these kids are not self regulating their behavior, or behavior regulation will come later on through the years. ask yourself how is a score generated, what measures self regualtion. "
   ]
  },
  {
   "cell_type": "code",
   "execution_count": 433,
   "metadata": {},
   "outputs": [
    {
     "data": {
      "text/plain": [
       "<matplotlib.axes._subplots.AxesSubplot at 0x1fc19fb6be0>"
      ]
     },
     "execution_count": 433,
     "metadata": {},
     "output_type": "execute_result"
    },
    {
     "data": {
      "image/png": "[encoded data removed]",
      "text/plain": [
       "<Figure size 432x432 with 1 Axes>"
      ]
     },
     "metadata": {
      "needs_background": "light"
     },
     "output_type": "display_data"
    }
   ],
   "source": [
    "new_df['behreg'].plot(kind ='hist', figsize=(6,6))\n"
   ]
  },
  {
   "cell_type": "code",
   "execution_count": 411,
   "metadata": {
    "scrolled": true
   },
   "outputs": [
    {
     "data": {
      "text/plain": [
       "0.0    94\n",
       "1.0    92\n",
       "2.0    81\n",
       "3.0    57\n",
       "4.0    19\n",
       "7.0    18\n",
       "5.0    16\n",
       "6.0    14\n",
       "8.0     6\n",
       "Name: behreg, dtype: int64"
      ]
     },
     "execution_count": 411,
     "metadata": {},
     "output_type": "execute_result"
    }
   ],
   "source": [
    "new_df['behreg'].value_counts()"
   ]
  },
  {
   "cell_type": "markdown",
   "metadata": {},
   "source": [
    "6 slides make 4 minutes\n",
    "# 9"
   ]
  },
  {
   "cell_type": "markdown",
   "metadata": {},
   "source": [
    "# 9a"
   ]
  },
  {
   "cell_type": "markdown",
   "metadata": {},
   "source": [
    "# 9b"
   ]
  },
  {
   "cell_type": "markdown",
   "metadata": {},
   "source": [
    "# 10"
   ]
  },
  {
   "cell_type": "markdown",
   "metadata": {},
   "source": [
    "1a slide explain my findings from file processing instructions"
   ]
  },
  {
   "cell_type": "markdown",
   "metadata": {},
   "source": [
    "1st slide interesting thing 1"
   ]
  },
  {
   "cell_type": "markdown",
   "metadata": {},
   "source": [
    "2nd slide interesting thing 2"
   ]
  },
  {
   "cell_type": "markdown",
   "metadata": {},
   "source": [
    "3rd slide graph 1 explain, use nominal level variables to create graph (pie)\n",
    "seperate data using gender boy and girl\n",
    "who is better at gender behavior and compare the ages too"
   ]
  },
  {
   "cell_type": "markdown",
   "metadata": {},
   "source": [
    "with the information from the dataset\n",
    "when comparing boys and girls we can see that 53.8 percent are boys and 46.2 are girls\n"
   ]
  },
  {
   "cell_type": "code",
   "execution_count": 453,
   "metadata": {},
   "outputs": [
    {
     "data": {
      "image/png": "[encoded data removed]",
      "text/plain": [
       "<Figure size 432x432 with 1 Axes>"
      ]
     },
     "metadata": {},
     "output_type": "display_data"
    }
   ],
   "source": [
    "colors= ['#ff6666', '#ffcc99']\n",
    "new_df['behreg'].value_counts().plot(kind ='pie', figsize=(6,6), autopct='%1.1f%%', startangle=90)\n",
    "new_df['gender'].value_counts().plot(kind ='pie', figsize=(6,6), autopct='%1.1f%%', startangle=90, colors=colors,radius=0.75)\n",
    "centre_circle= plt.Circle((0,0), 0.5, color='black', fc='white', linewidth = 0)\n",
    "fig=plt.gcf()\n",
    "fig.gca().add_artist(centre_circle)\n",
    "\n",
    "plt.axis('equal')\n",
    "plt.tight_layout()\n",
    "plt.show()"
   ]
  },
  {
   "cell_type": "code",
   "execution_count": 434,
   "metadata": {},
   "outputs": [
    {
     "data": {
      "text/plain": [
       "<matplotlib.axes._subplots.AxesSubplot at 0x1fc1a185a00>"
      ]
     },
     "execution_count": 434,
     "metadata": {},
     "output_type": "execute_result"
    },
    {
     "data": {
      "image/png": "[encoded data removed]",
      "text/plain": [
       "<Figure size 432x432 with 1 Axes>"
      ]
     },
     "metadata": {},
     "output_type": "display_data"
    }
   ],
   "source": [
    "new_df['behreg'].value_counts().plot(kind ='pie', figsize=(6,6), autopct='%1.1f%%')"
   ]
  },
  {
   "cell_type": "markdown",
   "metadata": {},
   "source": [
    "4th slide graph 2 explain, use nominal level variables to create graph(pie chart within piechart or bar graph)\n",
    "parents education affects childs behavior recognition?\n",
    "\n",
    "when combining the education of the parents it gives us a result of \n",
    "according to the parents education of a child, "
   ]
  },
  {
   "cell_type": "code",
   "execution_count": 403,
   "metadata": {},
   "outputs": [
    {
     "data": {
      "text/plain": [
       "<matplotlib.axes._subplots.AxesSubplot at 0x1fc179567f0>"
      ]
     },
     "execution_count": 403,
     "metadata": {},
     "output_type": "execute_result"
    },
    {
     "data": {
      "image/png": "[encoded data removed]",
      "text/plain": [
       "<Figure size 432x432 with 1 Axes>"
      ]
     },
     "metadata": {},
     "output_type": "display_data"
    }
   ],
   "source": [
    "new_df['parnted'].value_counts().plot(kind ='pie', figsize=(6,6), autopct='%1.1f%%')\n",
    "#new_df['parnted'].value_counts().plot(kind ='bar', figsize=(6,6))"
   ]
  },
  {
   "cell_type": "code",
   "execution_count": 386,
   "metadata": {},
   "outputs": [
    {
     "data": {
      "text/plain": [
       "<matplotlib.axes._subplots.AxesSubplot at 0x1fc168a5040>"
      ]
     },
     "execution_count": 386,
     "metadata": {},
     "output_type": "execute_result"
    },
    {
     "data": {
      "image/png": "[encoded data removed]",
      "text/plain": [
       "<Figure size 432x432 with 1 Axes>"
      ]
     },
     "metadata": {},
     "output_type": "display_data"
    }
   ],
   "source": [
    "new_df['Age'].value_counts().plot(kind ='pie', figsize=(6,6), autopct='%1.1f%%')"
   ]
  },
  {
   "cell_type": "markdown",
   "metadata": {},
   "source": [
    "5th slide make table that incorporates any two of the variables from the dataset develop the average or mean or median or standard deviation or variance using two columns from original dataset"
   ]
  },
  {
   "cell_type": "markdown",
   "metadata": {},
   "source": [
    "6th slide identify one issue with missing values and provide a cogent soluntion that does not involve imputation\n",
    "\n",
    "\n",
    "find the percentage of missing data per column and combined\n",
    "then see if the percentage is acceptable usually below 15%, so we can delete it \n",
    "an issue with missing values is that the accuracy of results can be affected depending on the amount of data missing \n",
    "\n",
    "Solution\n",
    "### 19 rows have missing information which is alittle over 4 percent of the whole dataset, since the percentage is low we can delete these rows and is also Missing Completely at Random\n",
    "\n",
    "solution for it ? we can delete the data and any row associated with it. Delete rows with missing data\n",
    "if it was greater we could consider dropping a variable"
   ]
  },
  {
   "cell_type": "code",
   "execution_count": null,
   "metadata": {},
   "outputs": [],
   "source": []
  }
 ],
 "metadata": {
  "kernelspec": {
   "display_name": "Python 3",
   "language": "python",
   "name": "python3"
  },
  "language_info": {
   "codemirror_mode": {
    "name": "ipython",
    "version": 3
   },
   "file_extension": ".py",
   "mimetype": "text/x-python",
   "name": "python",
   "nbconvert_exporter": "python",
   "pygments_lexer": "ipython3",
   "version": "3.8.3"
  }
 },
 "nbformat": 4,
 "nbformat_minor": 4
}
